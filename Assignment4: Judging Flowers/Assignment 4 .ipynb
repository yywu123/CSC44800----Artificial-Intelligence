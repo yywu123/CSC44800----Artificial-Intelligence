{
 "cells": [
  {
   "cell_type": "markdown",
   "id": "cabfd7f4",
   "metadata": {},
   "source": [
    "<a href=\"https://colab.research.google.com/github/yywu123/CSC44800----Artificial-Intelligence/blob/main/Assignment4%3A%20Judging%20Flowers/Assignment%204%20.ipynb\" target=\"_parent\"><img src=\"https://colab.research.google.com/assets/colab-badge.svg\" alt=\"Open In Colab\"/></a>\n"
   ]
  },
  {
   "cell_type": "markdown",
   "id": "076a759f",
   "metadata": {},
   "source": [
    "# <center> Assignment 4 :  Judging Flowers  </center>"
   ]
  },
  {
   "cell_type": "markdown",
   "id": "03374d5d",
   "metadata": {},
   "source": [
    "![title](iris_flowers.jpeg)"
   ]
  },
  {
   "cell_type": "code",
   "execution_count": 341,
   "id": "68cb23ee",
   "metadata": {},
   "outputs": [],
   "source": [
    "# Imports and pip installations (if needed)\n",
    "#pip install tabulate\n",
    "\n",
    "from sklearn.datasets import load_iris\n",
    "import pandas as pd \n",
    "import numpy as np\n",
    "from tabulate import tabulate\n",
    "\n",
    "\n",
    "from sklearn.model_selection import train_test_split\n",
    "from sklearn.linear_model import LogisticRegression\n",
    "from sklearn import svm\n",
    "from sklearn.neural_network import MLPClassifier\n",
    "from sklearn.neighbors import KNeighborsClassifier\n"
   ]
  },
  {
   "cell_type": "markdown",
   "id": "12f36eb4",
   "metadata": {},
   "source": [
    "# Part 1: Load the dataset\n"
   ]
  },
  {
   "cell_type": "code",
   "execution_count": 342,
   "id": "c1990aa4",
   "metadata": {},
   "outputs": [
    {
     "name": "stdout",
     "output_type": "stream",
     "text": [
      "dict_keys(['data', 'target', 'frame', 'target_names', 'DESCR', 'feature_names', 'filename'])\n",
      "['setosa' 'versicolor' 'virginica']\n"
     ]
    },
    {
     "data": {
      "text/html": [
       "<div>\n",
       "<style scoped>\n",
       "    .dataframe tbody tr th:only-of-type {\n",
       "        vertical-align: middle;\n",
       "    }\n",
       "\n",
       "    .dataframe tbody tr th {\n",
       "        vertical-align: top;\n",
       "    }\n",
       "\n",
       "    .dataframe thead th {\n",
       "        text-align: right;\n",
       "    }\n",
       "</style>\n",
       "<table border=\"1\" class=\"dataframe\">\n",
       "  <thead>\n",
       "    <tr style=\"text-align: right;\">\n",
       "      <th></th>\n",
       "      <th>sepal length (cm)</th>\n",
       "      <th>sepal width (cm)</th>\n",
       "      <th>petal length (cm)</th>\n",
       "      <th>petal width (cm)</th>\n",
       "      <th>Species</th>\n",
       "    </tr>\n",
       "  </thead>\n",
       "  <tbody>\n",
       "    <tr>\n",
       "      <th>0</th>\n",
       "      <td>5.1</td>\n",
       "      <td>3.5</td>\n",
       "      <td>1.4</td>\n",
       "      <td>0.2</td>\n",
       "      <td>0.0</td>\n",
       "    </tr>\n",
       "    <tr>\n",
       "      <th>1</th>\n",
       "      <td>4.9</td>\n",
       "      <td>3.0</td>\n",
       "      <td>1.4</td>\n",
       "      <td>0.2</td>\n",
       "      <td>0.0</td>\n",
       "    </tr>\n",
       "    <tr>\n",
       "      <th>2</th>\n",
       "      <td>4.7</td>\n",
       "      <td>3.2</td>\n",
       "      <td>1.3</td>\n",
       "      <td>0.2</td>\n",
       "      <td>0.0</td>\n",
       "    </tr>\n",
       "    <tr>\n",
       "      <th>3</th>\n",
       "      <td>4.6</td>\n",
       "      <td>3.1</td>\n",
       "      <td>1.5</td>\n",
       "      <td>0.2</td>\n",
       "      <td>0.0</td>\n",
       "    </tr>\n",
       "    <tr>\n",
       "      <th>4</th>\n",
       "      <td>5.0</td>\n",
       "      <td>3.6</td>\n",
       "      <td>1.4</td>\n",
       "      <td>0.2</td>\n",
       "      <td>0.0</td>\n",
       "    </tr>\n",
       "    <tr>\n",
       "      <th>5</th>\n",
       "      <td>5.4</td>\n",
       "      <td>3.9</td>\n",
       "      <td>1.7</td>\n",
       "      <td>0.4</td>\n",
       "      <td>0.0</td>\n",
       "    </tr>\n",
       "    <tr>\n",
       "      <th>6</th>\n",
       "      <td>4.6</td>\n",
       "      <td>3.4</td>\n",
       "      <td>1.4</td>\n",
       "      <td>0.3</td>\n",
       "      <td>0.0</td>\n",
       "    </tr>\n",
       "    <tr>\n",
       "      <th>7</th>\n",
       "      <td>5.0</td>\n",
       "      <td>3.4</td>\n",
       "      <td>1.5</td>\n",
       "      <td>0.2</td>\n",
       "      <td>0.0</td>\n",
       "    </tr>\n",
       "    <tr>\n",
       "      <th>8</th>\n",
       "      <td>4.4</td>\n",
       "      <td>2.9</td>\n",
       "      <td>1.4</td>\n",
       "      <td>0.2</td>\n",
       "      <td>0.0</td>\n",
       "    </tr>\n",
       "    <tr>\n",
       "      <th>9</th>\n",
       "      <td>4.9</td>\n",
       "      <td>3.1</td>\n",
       "      <td>1.5</td>\n",
       "      <td>0.1</td>\n",
       "      <td>0.0</td>\n",
       "    </tr>\n",
       "    <tr>\n",
       "      <th>10</th>\n",
       "      <td>5.4</td>\n",
       "      <td>3.7</td>\n",
       "      <td>1.5</td>\n",
       "      <td>0.2</td>\n",
       "      <td>0.0</td>\n",
       "    </tr>\n",
       "    <tr>\n",
       "      <th>11</th>\n",
       "      <td>4.8</td>\n",
       "      <td>3.4</td>\n",
       "      <td>1.6</td>\n",
       "      <td>0.2</td>\n",
       "      <td>0.0</td>\n",
       "    </tr>\n",
       "    <tr>\n",
       "      <th>12</th>\n",
       "      <td>4.8</td>\n",
       "      <td>3.0</td>\n",
       "      <td>1.4</td>\n",
       "      <td>0.1</td>\n",
       "      <td>0.0</td>\n",
       "    </tr>\n",
       "    <tr>\n",
       "      <th>13</th>\n",
       "      <td>4.3</td>\n",
       "      <td>3.0</td>\n",
       "      <td>1.1</td>\n",
       "      <td>0.1</td>\n",
       "      <td>0.0</td>\n",
       "    </tr>\n",
       "    <tr>\n",
       "      <th>14</th>\n",
       "      <td>5.8</td>\n",
       "      <td>4.0</td>\n",
       "      <td>1.2</td>\n",
       "      <td>0.2</td>\n",
       "      <td>0.0</td>\n",
       "    </tr>\n",
       "  </tbody>\n",
       "</table>\n",
       "</div>"
      ],
      "text/plain": [
       "    sepal length (cm)  sepal width (cm)  petal length (cm)  petal width (cm)  \\\n",
       "0                 5.1               3.5                1.4               0.2   \n",
       "1                 4.9               3.0                1.4               0.2   \n",
       "2                 4.7               3.2                1.3               0.2   \n",
       "3                 4.6               3.1                1.5               0.2   \n",
       "4                 5.0               3.6                1.4               0.2   \n",
       "5                 5.4               3.9                1.7               0.4   \n",
       "6                 4.6               3.4                1.4               0.3   \n",
       "7                 5.0               3.4                1.5               0.2   \n",
       "8                 4.4               2.9                1.4               0.2   \n",
       "9                 4.9               3.1                1.5               0.1   \n",
       "10                5.4               3.7                1.5               0.2   \n",
       "11                4.8               3.4                1.6               0.2   \n",
       "12                4.8               3.0                1.4               0.1   \n",
       "13                4.3               3.0                1.1               0.1   \n",
       "14                5.8               4.0                1.2               0.2   \n",
       "\n",
       "    Species  \n",
       "0       0.0  \n",
       "1       0.0  \n",
       "2       0.0  \n",
       "3       0.0  \n",
       "4       0.0  \n",
       "5       0.0  \n",
       "6       0.0  \n",
       "7       0.0  \n",
       "8       0.0  \n",
       "9       0.0  \n",
       "10      0.0  \n",
       "11      0.0  \n",
       "12      0.0  \n",
       "13      0.0  \n",
       "14      0.0  "
      ]
     },
     "execution_count": 342,
     "metadata": {},
     "output_type": "execute_result"
    }
   ],
   "source": [
    "# Load the dataset (load remotely, not locally)\n",
    "iris = load_iris()\n",
    "print(iris.keys())\n",
    "print(iris.target_names)\n",
    "\n",
    "\n",
    "\n",
    "df = pd.DataFrame(data=np.c_[iris['data'], iris['target']], columns = iris['feature_names'] + ['Species'])\n",
    "\n",
    "\n",
    "# Output the first 15 rows of the data\n",
    "df.head(15)\n"
   ]
  },
  {
   "cell_type": "code",
   "execution_count": 343,
   "id": "6b7289cb",
   "metadata": {},
   "outputs": [
    {
     "name": "stdout",
     "output_type": "stream",
     "text": [
      "<class 'pandas.core.frame.DataFrame'>\n",
      "RangeIndex: 150 entries, 0 to 149\n",
      "Data columns (total 5 columns):\n",
      " #   Column             Non-Null Count  Dtype  \n",
      "---  ------             --------------  -----  \n",
      " 0   sepal length (cm)  150 non-null    float64\n",
      " 1   sepal width (cm)   150 non-null    float64\n",
      " 2   petal length (cm)  150 non-null    float64\n",
      " 3   petal width (cm)   150 non-null    float64\n",
      " 4   Species            150 non-null    float64\n",
      "dtypes: float64(5)\n",
      "memory usage: 6.0 KB\n"
     ]
    }
   ],
   "source": [
    "# Display a summary of the table information (number of datapoints, etc.)\n",
    "df.info()"
   ]
  },
  {
   "cell_type": "code",
   "execution_count": 344,
   "id": "d6934a19",
   "metadata": {},
   "outputs": [
    {
     "data": {
      "text/html": [
       "<div>\n",
       "<style scoped>\n",
       "    .dataframe tbody tr th:only-of-type {\n",
       "        vertical-align: middle;\n",
       "    }\n",
       "\n",
       "    .dataframe tbody tr th {\n",
       "        vertical-align: top;\n",
       "    }\n",
       "\n",
       "    .dataframe thead th {\n",
       "        text-align: right;\n",
       "    }\n",
       "</style>\n",
       "<table border=\"1\" class=\"dataframe\">\n",
       "  <thead>\n",
       "    <tr style=\"text-align: right;\">\n",
       "      <th></th>\n",
       "      <th>sepal length (cm)</th>\n",
       "      <th>sepal width (cm)</th>\n",
       "      <th>petal length (cm)</th>\n",
       "      <th>petal width (cm)</th>\n",
       "      <th>Species</th>\n",
       "    </tr>\n",
       "  </thead>\n",
       "  <tbody>\n",
       "    <tr>\n",
       "      <th>count</th>\n",
       "      <td>150.000000</td>\n",
       "      <td>150.000000</td>\n",
       "      <td>150.000000</td>\n",
       "      <td>150.000000</td>\n",
       "      <td>150.000000</td>\n",
       "    </tr>\n",
       "    <tr>\n",
       "      <th>mean</th>\n",
       "      <td>5.843333</td>\n",
       "      <td>3.057333</td>\n",
       "      <td>3.758000</td>\n",
       "      <td>1.199333</td>\n",
       "      <td>1.000000</td>\n",
       "    </tr>\n",
       "    <tr>\n",
       "      <th>std</th>\n",
       "      <td>0.828066</td>\n",
       "      <td>0.435866</td>\n",
       "      <td>1.765298</td>\n",
       "      <td>0.762238</td>\n",
       "      <td>0.819232</td>\n",
       "    </tr>\n",
       "    <tr>\n",
       "      <th>min</th>\n",
       "      <td>4.300000</td>\n",
       "      <td>2.000000</td>\n",
       "      <td>1.000000</td>\n",
       "      <td>0.100000</td>\n",
       "      <td>0.000000</td>\n",
       "    </tr>\n",
       "    <tr>\n",
       "      <th>25%</th>\n",
       "      <td>5.100000</td>\n",
       "      <td>2.800000</td>\n",
       "      <td>1.600000</td>\n",
       "      <td>0.300000</td>\n",
       "      <td>0.000000</td>\n",
       "    </tr>\n",
       "    <tr>\n",
       "      <th>50%</th>\n",
       "      <td>5.800000</td>\n",
       "      <td>3.000000</td>\n",
       "      <td>4.350000</td>\n",
       "      <td>1.300000</td>\n",
       "      <td>1.000000</td>\n",
       "    </tr>\n",
       "    <tr>\n",
       "      <th>75%</th>\n",
       "      <td>6.400000</td>\n",
       "      <td>3.300000</td>\n",
       "      <td>5.100000</td>\n",
       "      <td>1.800000</td>\n",
       "      <td>2.000000</td>\n",
       "    </tr>\n",
       "    <tr>\n",
       "      <th>max</th>\n",
       "      <td>7.900000</td>\n",
       "      <td>4.400000</td>\n",
       "      <td>6.900000</td>\n",
       "      <td>2.500000</td>\n",
       "      <td>2.000000</td>\n",
       "    </tr>\n",
       "  </tbody>\n",
       "</table>\n",
       "</div>"
      ],
      "text/plain": [
       "       sepal length (cm)  sepal width (cm)  petal length (cm)  \\\n",
       "count         150.000000        150.000000         150.000000   \n",
       "mean            5.843333          3.057333           3.758000   \n",
       "std             0.828066          0.435866           1.765298   \n",
       "min             4.300000          2.000000           1.000000   \n",
       "25%             5.100000          2.800000           1.600000   \n",
       "50%             5.800000          3.000000           4.350000   \n",
       "75%             6.400000          3.300000           5.100000   \n",
       "max             7.900000          4.400000           6.900000   \n",
       "\n",
       "       petal width (cm)     Species  \n",
       "count        150.000000  150.000000  \n",
       "mean           1.199333    1.000000  \n",
       "std            0.762238    0.819232  \n",
       "min            0.100000    0.000000  \n",
       "25%            0.300000    0.000000  \n",
       "50%            1.300000    1.000000  \n",
       "75%            1.800000    2.000000  \n",
       "max            2.500000    2.000000  "
      ]
     },
     "execution_count": 344,
     "metadata": {},
     "output_type": "execute_result"
    }
   ],
   "source": [
    "df.describe()"
   ]
  },
  {
   "cell_type": "markdown",
   "id": "ca228ae9",
   "metadata": {},
   "source": [
    "## About the dataset\n",
    "\n",
    "\n",
    "Explain what the data is in your own words. What are your features and labels? What is the mapping of your labels to the actual classes?\n",
    "\n",
    "This dataset consists information of 50 samples from each of three species of Iris (Iris setosa, Iris virginica and Iris versicolor). The dataset contain 150 record of Iris flower and for each record you can find information about sepal length, sepal width , petal length , petal width and species type. \n",
    "\n",
    "The feature of this dataset are sepal length, sepal width , petal length and petal width. The label is the species of the Iris flower, in this case the data only contain 0 , 1 , 2 and this three value will map to different species. \n"
   ]
  },
  {
   "cell_type": "markdown",
   "id": "5bf12641",
   "metadata": {},
   "source": [
    "- 0 --> setosa \n",
    "- 1 --> versicolor \n",
    "- 2 --> virginica"
   ]
  },
  {
   "cell_type": "markdown",
   "id": "94f55977",
   "metadata": {},
   "source": [
    "![title](iris-dataset.png)"
   ]
  },
  {
   "cell_type": "markdown",
   "id": "cd33db3f",
   "metadata": {},
   "source": [
    "# Part 2: Split the dataset into train and test\n"
   ]
  },
  {
   "cell_type": "code",
   "execution_count": 345,
   "id": "45a10386",
   "metadata": {},
   "outputs": [
    {
     "name": "stdout",
     "output_type": "stream",
     "text": [
      "Columns Name: \n"
     ]
    },
    {
     "data": {
      "text/plain": [
       "['sepal length (cm)',\n",
       " 'sepal width (cm)',\n",
       " 'petal length (cm)',\n",
       " 'petal width (cm)',\n",
       " 'Species']"
      ]
     },
     "execution_count": 345,
     "metadata": {},
     "output_type": "execute_result"
    }
   ],
   "source": [
    "# Take the dataset and split it into our features (X) and label (y)\n",
    "\n",
    "\n",
    "x = df[['sepal length (cm)','sepal width (cm)','petal length (cm)','petal width (cm)']]\n",
    "y = df[['Species']]\n",
    "\n",
    "\n",
    "columns = df.columns\n",
    "print(\"Columns Name: \")\n",
    "columns.tolist()\n"
   ]
  },
  {
   "cell_type": "code",
   "execution_count": 346,
   "id": "2da0932a",
   "metadata": {
    "scrolled": true
   },
   "outputs": [
    {
     "data": {
      "text/html": [
       "<div>\n",
       "<style scoped>\n",
       "    .dataframe tbody tr th:only-of-type {\n",
       "        vertical-align: middle;\n",
       "    }\n",
       "\n",
       "    .dataframe tbody tr th {\n",
       "        vertical-align: top;\n",
       "    }\n",
       "\n",
       "    .dataframe thead th {\n",
       "        text-align: right;\n",
       "    }\n",
       "</style>\n",
       "<table border=\"1\" class=\"dataframe\">\n",
       "  <thead>\n",
       "    <tr style=\"text-align: right;\">\n",
       "      <th></th>\n",
       "      <th>sepal length (cm)</th>\n",
       "      <th>sepal width (cm)</th>\n",
       "      <th>petal length (cm)</th>\n",
       "      <th>petal width (cm)</th>\n",
       "    </tr>\n",
       "  </thead>\n",
       "  <tbody>\n",
       "    <tr>\n",
       "      <th>0</th>\n",
       "      <td>5.1</td>\n",
       "      <td>3.5</td>\n",
       "      <td>1.4</td>\n",
       "      <td>0.2</td>\n",
       "    </tr>\n",
       "    <tr>\n",
       "      <th>1</th>\n",
       "      <td>4.9</td>\n",
       "      <td>3.0</td>\n",
       "      <td>1.4</td>\n",
       "      <td>0.2</td>\n",
       "    </tr>\n",
       "    <tr>\n",
       "      <th>2</th>\n",
       "      <td>4.7</td>\n",
       "      <td>3.2</td>\n",
       "      <td>1.3</td>\n",
       "      <td>0.2</td>\n",
       "    </tr>\n",
       "    <tr>\n",
       "      <th>3</th>\n",
       "      <td>4.6</td>\n",
       "      <td>3.1</td>\n",
       "      <td>1.5</td>\n",
       "      <td>0.2</td>\n",
       "    </tr>\n",
       "    <tr>\n",
       "      <th>4</th>\n",
       "      <td>5.0</td>\n",
       "      <td>3.6</td>\n",
       "      <td>1.4</td>\n",
       "      <td>0.2</td>\n",
       "    </tr>\n",
       "  </tbody>\n",
       "</table>\n",
       "</div>"
      ],
      "text/plain": [
       "   sepal length (cm)  sepal width (cm)  petal length (cm)  petal width (cm)\n",
       "0                5.1               3.5                1.4               0.2\n",
       "1                4.9               3.0                1.4               0.2\n",
       "2                4.7               3.2                1.3               0.2\n",
       "3                4.6               3.1                1.5               0.2\n",
       "4                5.0               3.6                1.4               0.2"
      ]
     },
     "execution_count": 346,
     "metadata": {},
     "output_type": "execute_result"
    }
   ],
   "source": [
    "## x contain sepal length, sepal width, petal length and petal width\n",
    "x.head(5)"
   ]
  },
  {
   "cell_type": "code",
   "execution_count": 347,
   "id": "67174fdd",
   "metadata": {},
   "outputs": [
    {
     "data": {
      "text/html": [
       "<div>\n",
       "<style scoped>\n",
       "    .dataframe tbody tr th:only-of-type {\n",
       "        vertical-align: middle;\n",
       "    }\n",
       "\n",
       "    .dataframe tbody tr th {\n",
       "        vertical-align: top;\n",
       "    }\n",
       "\n",
       "    .dataframe thead th {\n",
       "        text-align: right;\n",
       "    }\n",
       "</style>\n",
       "<table border=\"1\" class=\"dataframe\">\n",
       "  <thead>\n",
       "    <tr style=\"text-align: right;\">\n",
       "      <th></th>\n",
       "      <th>Species</th>\n",
       "    </tr>\n",
       "  </thead>\n",
       "  <tbody>\n",
       "    <tr>\n",
       "      <th>0</th>\n",
       "      <td>0.0</td>\n",
       "    </tr>\n",
       "    <tr>\n",
       "      <th>1</th>\n",
       "      <td>0.0</td>\n",
       "    </tr>\n",
       "    <tr>\n",
       "      <th>2</th>\n",
       "      <td>0.0</td>\n",
       "    </tr>\n",
       "    <tr>\n",
       "      <th>3</th>\n",
       "      <td>0.0</td>\n",
       "    </tr>\n",
       "    <tr>\n",
       "      <th>4</th>\n",
       "      <td>0.0</td>\n",
       "    </tr>\n",
       "  </tbody>\n",
       "</table>\n",
       "</div>"
      ],
      "text/plain": [
       "   Species\n",
       "0      0.0\n",
       "1      0.0\n",
       "2      0.0\n",
       "3      0.0\n",
       "4      0.0"
      ]
     },
     "execution_count": 347,
     "metadata": {},
     "output_type": "execute_result"
    }
   ],
   "source": [
    "## y contain the speciew value\n",
    "y.head(5)"
   ]
  },
  {
   "cell_type": "code",
   "execution_count": 348,
   "id": "5e1dd825",
   "metadata": {},
   "outputs": [],
   "source": [
    "# Use sklearn to split the features and labels into a training/test set. (90% train, 10% test)\n",
    "X_train, X_test, y_train, y_test = train_test_split(x, y, test_size=0.1, train_size = 0.9, random_state=100)\n"
   ]
  },
  {
   "cell_type": "code",
   "execution_count": 349,
   "id": "e96548a4",
   "metadata": {},
   "outputs": [
    {
     "data": {
      "text/html": [
       "<div>\n",
       "<style scoped>\n",
       "    .dataframe tbody tr th:only-of-type {\n",
       "        vertical-align: middle;\n",
       "    }\n",
       "\n",
       "    .dataframe tbody tr th {\n",
       "        vertical-align: top;\n",
       "    }\n",
       "\n",
       "    .dataframe thead th {\n",
       "        text-align: right;\n",
       "    }\n",
       "</style>\n",
       "<table border=\"1\" class=\"dataframe\">\n",
       "  <thead>\n",
       "    <tr style=\"text-align: right;\">\n",
       "      <th></th>\n",
       "      <th>sepal length (cm)</th>\n",
       "      <th>sepal width (cm)</th>\n",
       "      <th>petal length (cm)</th>\n",
       "      <th>petal width (cm)</th>\n",
       "    </tr>\n",
       "  </thead>\n",
       "  <tbody>\n",
       "    <tr>\n",
       "      <th>97</th>\n",
       "      <td>6.2</td>\n",
       "      <td>2.9</td>\n",
       "      <td>4.3</td>\n",
       "      <td>1.3</td>\n",
       "    </tr>\n",
       "    <tr>\n",
       "      <th>62</th>\n",
       "      <td>6.0</td>\n",
       "      <td>2.2</td>\n",
       "      <td>4.0</td>\n",
       "      <td>1.0</td>\n",
       "    </tr>\n",
       "    <tr>\n",
       "      <th>77</th>\n",
       "      <td>6.7</td>\n",
       "      <td>3.0</td>\n",
       "      <td>5.0</td>\n",
       "      <td>1.7</td>\n",
       "    </tr>\n",
       "    <tr>\n",
       "      <th>122</th>\n",
       "      <td>7.7</td>\n",
       "      <td>2.8</td>\n",
       "      <td>6.7</td>\n",
       "      <td>2.0</td>\n",
       "    </tr>\n",
       "    <tr>\n",
       "      <th>112</th>\n",
       "      <td>6.8</td>\n",
       "      <td>3.0</td>\n",
       "      <td>5.5</td>\n",
       "      <td>2.1</td>\n",
       "    </tr>\n",
       "    <tr>\n",
       "      <th>...</th>\n",
       "      <td>...</td>\n",
       "      <td>...</td>\n",
       "      <td>...</td>\n",
       "      <td>...</td>\n",
       "    </tr>\n",
       "    <tr>\n",
       "      <th>87</th>\n",
       "      <td>6.3</td>\n",
       "      <td>2.3</td>\n",
       "      <td>4.4</td>\n",
       "      <td>1.3</td>\n",
       "    </tr>\n",
       "    <tr>\n",
       "      <th>103</th>\n",
       "      <td>6.3</td>\n",
       "      <td>2.9</td>\n",
       "      <td>5.6</td>\n",
       "      <td>1.8</td>\n",
       "    </tr>\n",
       "    <tr>\n",
       "      <th>67</th>\n",
       "      <td>5.8</td>\n",
       "      <td>2.7</td>\n",
       "      <td>4.1</td>\n",
       "      <td>1.0</td>\n",
       "    </tr>\n",
       "    <tr>\n",
       "      <th>24</th>\n",
       "      <td>4.8</td>\n",
       "      <td>3.4</td>\n",
       "      <td>1.9</td>\n",
       "      <td>0.2</td>\n",
       "    </tr>\n",
       "    <tr>\n",
       "      <th>8</th>\n",
       "      <td>4.4</td>\n",
       "      <td>2.9</td>\n",
       "      <td>1.4</td>\n",
       "      <td>0.2</td>\n",
       "    </tr>\n",
       "  </tbody>\n",
       "</table>\n",
       "<p>135 rows × 4 columns</p>\n",
       "</div>"
      ],
      "text/plain": [
       "     sepal length (cm)  sepal width (cm)  petal length (cm)  petal width (cm)\n",
       "97                 6.2               2.9                4.3               1.3\n",
       "62                 6.0               2.2                4.0               1.0\n",
       "77                 6.7               3.0                5.0               1.7\n",
       "122                7.7               2.8                6.7               2.0\n",
       "112                6.8               3.0                5.5               2.1\n",
       "..                 ...               ...                ...               ...\n",
       "87                 6.3               2.3                4.4               1.3\n",
       "103                6.3               2.9                5.6               1.8\n",
       "67                 5.8               2.7                4.1               1.0\n",
       "24                 4.8               3.4                1.9               0.2\n",
       "8                  4.4               2.9                1.4               0.2\n",
       "\n",
       "[135 rows x 4 columns]"
      ]
     },
     "execution_count": 349,
     "metadata": {},
     "output_type": "execute_result"
    }
   ],
   "source": [
    "## 90 % of dataset become train data  \n",
    "X_train"
   ]
  },
  {
   "cell_type": "code",
   "execution_count": 350,
   "id": "bfe2bcd9",
   "metadata": {},
   "outputs": [
    {
     "data": {
      "text/html": [
       "<div>\n",
       "<style scoped>\n",
       "    .dataframe tbody tr th:only-of-type {\n",
       "        vertical-align: middle;\n",
       "    }\n",
       "\n",
       "    .dataframe tbody tr th {\n",
       "        vertical-align: top;\n",
       "    }\n",
       "\n",
       "    .dataframe thead th {\n",
       "        text-align: right;\n",
       "    }\n",
       "</style>\n",
       "<table border=\"1\" class=\"dataframe\">\n",
       "  <thead>\n",
       "    <tr style=\"text-align: right;\">\n",
       "      <th></th>\n",
       "      <th>sepal length (cm)</th>\n",
       "      <th>sepal width (cm)</th>\n",
       "      <th>petal length (cm)</th>\n",
       "      <th>petal width (cm)</th>\n",
       "    </tr>\n",
       "  </thead>\n",
       "  <tbody>\n",
       "    <tr>\n",
       "      <th>128</th>\n",
       "      <td>6.4</td>\n",
       "      <td>2.8</td>\n",
       "      <td>5.6</td>\n",
       "      <td>2.1</td>\n",
       "    </tr>\n",
       "    <tr>\n",
       "      <th>11</th>\n",
       "      <td>4.8</td>\n",
       "      <td>3.4</td>\n",
       "      <td>1.6</td>\n",
       "      <td>0.2</td>\n",
       "    </tr>\n",
       "    <tr>\n",
       "      <th>118</th>\n",
       "      <td>7.7</td>\n",
       "      <td>2.6</td>\n",
       "      <td>6.9</td>\n",
       "      <td>2.3</td>\n",
       "    </tr>\n",
       "    <tr>\n",
       "      <th>15</th>\n",
       "      <td>5.7</td>\n",
       "      <td>4.4</td>\n",
       "      <td>1.5</td>\n",
       "      <td>0.4</td>\n",
       "    </tr>\n",
       "    <tr>\n",
       "      <th>123</th>\n",
       "      <td>6.3</td>\n",
       "      <td>2.7</td>\n",
       "      <td>4.9</td>\n",
       "      <td>1.8</td>\n",
       "    </tr>\n",
       "    <tr>\n",
       "      <th>135</th>\n",
       "      <td>7.7</td>\n",
       "      <td>3.0</td>\n",
       "      <td>6.1</td>\n",
       "      <td>2.3</td>\n",
       "    </tr>\n",
       "    <tr>\n",
       "      <th>32</th>\n",
       "      <td>5.2</td>\n",
       "      <td>4.1</td>\n",
       "      <td>1.5</td>\n",
       "      <td>0.1</td>\n",
       "    </tr>\n",
       "    <tr>\n",
       "      <th>1</th>\n",
       "      <td>4.9</td>\n",
       "      <td>3.0</td>\n",
       "      <td>1.4</td>\n",
       "      <td>0.2</td>\n",
       "    </tr>\n",
       "    <tr>\n",
       "      <th>116</th>\n",
       "      <td>6.5</td>\n",
       "      <td>3.0</td>\n",
       "      <td>5.5</td>\n",
       "      <td>1.8</td>\n",
       "    </tr>\n",
       "    <tr>\n",
       "      <th>45</th>\n",
       "      <td>4.8</td>\n",
       "      <td>3.0</td>\n",
       "      <td>1.4</td>\n",
       "      <td>0.3</td>\n",
       "    </tr>\n",
       "    <tr>\n",
       "      <th>40</th>\n",
       "      <td>5.0</td>\n",
       "      <td>3.5</td>\n",
       "      <td>1.3</td>\n",
       "      <td>0.3</td>\n",
       "    </tr>\n",
       "    <tr>\n",
       "      <th>115</th>\n",
       "      <td>6.4</td>\n",
       "      <td>3.2</td>\n",
       "      <td>5.3</td>\n",
       "      <td>2.3</td>\n",
       "    </tr>\n",
       "    <tr>\n",
       "      <th>26</th>\n",
       "      <td>5.0</td>\n",
       "      <td>3.4</td>\n",
       "      <td>1.6</td>\n",
       "      <td>0.4</td>\n",
       "    </tr>\n",
       "    <tr>\n",
       "      <th>28</th>\n",
       "      <td>5.2</td>\n",
       "      <td>3.4</td>\n",
       "      <td>1.4</td>\n",
       "      <td>0.2</td>\n",
       "    </tr>\n",
       "    <tr>\n",
       "      <th>145</th>\n",
       "      <td>6.7</td>\n",
       "      <td>3.0</td>\n",
       "      <td>5.2</td>\n",
       "      <td>2.3</td>\n",
       "    </tr>\n",
       "  </tbody>\n",
       "</table>\n",
       "</div>"
      ],
      "text/plain": [
       "     sepal length (cm)  sepal width (cm)  petal length (cm)  petal width (cm)\n",
       "128                6.4               2.8                5.6               2.1\n",
       "11                 4.8               3.4                1.6               0.2\n",
       "118                7.7               2.6                6.9               2.3\n",
       "15                 5.7               4.4                1.5               0.4\n",
       "123                6.3               2.7                4.9               1.8\n",
       "135                7.7               3.0                6.1               2.3\n",
       "32                 5.2               4.1                1.5               0.1\n",
       "1                  4.9               3.0                1.4               0.2\n",
       "116                6.5               3.0                5.5               1.8\n",
       "45                 4.8               3.0                1.4               0.3\n",
       "40                 5.0               3.5                1.3               0.3\n",
       "115                6.4               3.2                5.3               2.3\n",
       "26                 5.0               3.4                1.6               0.4\n",
       "28                 5.2               3.4                1.4               0.2\n",
       "145                6.7               3.0                5.2               2.3"
      ]
     },
     "execution_count": 350,
     "metadata": {},
     "output_type": "execute_result"
    }
   ],
   "source": [
    "## 10 % of data become test data\n",
    "X_test"
   ]
  },
  {
   "cell_type": "code",
   "execution_count": 351,
   "id": "7f73789c",
   "metadata": {},
   "outputs": [
    {
     "data": {
      "text/html": [
       "<div>\n",
       "<style scoped>\n",
       "    .dataframe tbody tr th:only-of-type {\n",
       "        vertical-align: middle;\n",
       "    }\n",
       "\n",
       "    .dataframe tbody tr th {\n",
       "        vertical-align: top;\n",
       "    }\n",
       "\n",
       "    .dataframe thead th {\n",
       "        text-align: right;\n",
       "    }\n",
       "</style>\n",
       "<table border=\"1\" class=\"dataframe\">\n",
       "  <thead>\n",
       "    <tr style=\"text-align: right;\">\n",
       "      <th></th>\n",
       "      <th>Species</th>\n",
       "    </tr>\n",
       "  </thead>\n",
       "  <tbody>\n",
       "    <tr>\n",
       "      <th>97</th>\n",
       "      <td>1.0</td>\n",
       "    </tr>\n",
       "    <tr>\n",
       "      <th>62</th>\n",
       "      <td>1.0</td>\n",
       "    </tr>\n",
       "    <tr>\n",
       "      <th>77</th>\n",
       "      <td>1.0</td>\n",
       "    </tr>\n",
       "    <tr>\n",
       "      <th>122</th>\n",
       "      <td>2.0</td>\n",
       "    </tr>\n",
       "    <tr>\n",
       "      <th>112</th>\n",
       "      <td>2.0</td>\n",
       "    </tr>\n",
       "    <tr>\n",
       "      <th>...</th>\n",
       "      <td>...</td>\n",
       "    </tr>\n",
       "    <tr>\n",
       "      <th>87</th>\n",
       "      <td>1.0</td>\n",
       "    </tr>\n",
       "    <tr>\n",
       "      <th>103</th>\n",
       "      <td>2.0</td>\n",
       "    </tr>\n",
       "    <tr>\n",
       "      <th>67</th>\n",
       "      <td>1.0</td>\n",
       "    </tr>\n",
       "    <tr>\n",
       "      <th>24</th>\n",
       "      <td>0.0</td>\n",
       "    </tr>\n",
       "    <tr>\n",
       "      <th>8</th>\n",
       "      <td>0.0</td>\n",
       "    </tr>\n",
       "  </tbody>\n",
       "</table>\n",
       "<p>135 rows × 1 columns</p>\n",
       "</div>"
      ],
      "text/plain": [
       "     Species\n",
       "97       1.0\n",
       "62       1.0\n",
       "77       1.0\n",
       "122      2.0\n",
       "112      2.0\n",
       "..       ...\n",
       "87       1.0\n",
       "103      2.0\n",
       "67       1.0\n",
       "24       0.0\n",
       "8        0.0\n",
       "\n",
       "[135 rows x 1 columns]"
      ]
     },
     "execution_count": 351,
     "metadata": {},
     "output_type": "execute_result"
    }
   ],
   "source": [
    "y_train"
   ]
  },
  {
   "cell_type": "code",
   "execution_count": 352,
   "id": "80e9318c",
   "metadata": {},
   "outputs": [
    {
     "data": {
      "text/html": [
       "<div>\n",
       "<style scoped>\n",
       "    .dataframe tbody tr th:only-of-type {\n",
       "        vertical-align: middle;\n",
       "    }\n",
       "\n",
       "    .dataframe tbody tr th {\n",
       "        vertical-align: top;\n",
       "    }\n",
       "\n",
       "    .dataframe thead th {\n",
       "        text-align: right;\n",
       "    }\n",
       "</style>\n",
       "<table border=\"1\" class=\"dataframe\">\n",
       "  <thead>\n",
       "    <tr style=\"text-align: right;\">\n",
       "      <th></th>\n",
       "      <th>Species</th>\n",
       "    </tr>\n",
       "  </thead>\n",
       "  <tbody>\n",
       "    <tr>\n",
       "      <th>128</th>\n",
       "      <td>2.0</td>\n",
       "    </tr>\n",
       "    <tr>\n",
       "      <th>11</th>\n",
       "      <td>0.0</td>\n",
       "    </tr>\n",
       "    <tr>\n",
       "      <th>118</th>\n",
       "      <td>2.0</td>\n",
       "    </tr>\n",
       "    <tr>\n",
       "      <th>15</th>\n",
       "      <td>0.0</td>\n",
       "    </tr>\n",
       "    <tr>\n",
       "      <th>123</th>\n",
       "      <td>2.0</td>\n",
       "    </tr>\n",
       "    <tr>\n",
       "      <th>135</th>\n",
       "      <td>2.0</td>\n",
       "    </tr>\n",
       "    <tr>\n",
       "      <th>32</th>\n",
       "      <td>0.0</td>\n",
       "    </tr>\n",
       "    <tr>\n",
       "      <th>1</th>\n",
       "      <td>0.0</td>\n",
       "    </tr>\n",
       "    <tr>\n",
       "      <th>116</th>\n",
       "      <td>2.0</td>\n",
       "    </tr>\n",
       "    <tr>\n",
       "      <th>45</th>\n",
       "      <td>0.0</td>\n",
       "    </tr>\n",
       "    <tr>\n",
       "      <th>40</th>\n",
       "      <td>0.0</td>\n",
       "    </tr>\n",
       "    <tr>\n",
       "      <th>115</th>\n",
       "      <td>2.0</td>\n",
       "    </tr>\n",
       "    <tr>\n",
       "      <th>26</th>\n",
       "      <td>0.0</td>\n",
       "    </tr>\n",
       "    <tr>\n",
       "      <th>28</th>\n",
       "      <td>0.0</td>\n",
       "    </tr>\n",
       "    <tr>\n",
       "      <th>145</th>\n",
       "      <td>2.0</td>\n",
       "    </tr>\n",
       "  </tbody>\n",
       "</table>\n",
       "</div>"
      ],
      "text/plain": [
       "     Species\n",
       "128      2.0\n",
       "11       0.0\n",
       "118      2.0\n",
       "15       0.0\n",
       "123      2.0\n",
       "135      2.0\n",
       "32       0.0\n",
       "1        0.0\n",
       "116      2.0\n",
       "45       0.0\n",
       "40       0.0\n",
       "115      2.0\n",
       "26       0.0\n",
       "28       0.0\n",
       "145      2.0"
      ]
     },
     "execution_count": 352,
     "metadata": {},
     "output_type": "execute_result"
    }
   ],
   "source": [
    "y_test"
   ]
  },
  {
   "cell_type": "markdown",
   "id": "b6706b85",
   "metadata": {},
   "source": [
    "# Part 3: Logistic Regression\n"
   ]
  },
  {
   "cell_type": "code",
   "execution_count": 353,
   "id": "02c4d2c4",
   "metadata": {},
   "outputs": [
    {
     "data": {
      "text/plain": [
       "LogisticRegression()"
      ]
     },
     "execution_count": 353,
     "metadata": {},
     "output_type": "execute_result"
    }
   ],
   "source": [
    "# i. Use sklearn to train a LogisticRegression model on the training set\n",
    "\n",
    "Logistic_Reg = LogisticRegression()\n",
    "Logistic_Reg.fit(X_train, y_train.values.ravel())\n"
   ]
  },
  {
   "cell_type": "code",
   "execution_count": 354,
   "id": "822d3c0d",
   "metadata": {},
   "outputs": [
    {
     "name": "stdout",
     "output_type": "stream",
     "text": [
      "Sample datapoint information: \n"
     ]
    },
    {
     "data": {
      "text/html": [
       "<div>\n",
       "<style scoped>\n",
       "    .dataframe tbody tr th:only-of-type {\n",
       "        vertical-align: middle;\n",
       "    }\n",
       "\n",
       "    .dataframe tbody tr th {\n",
       "        vertical-align: top;\n",
       "    }\n",
       "\n",
       "    .dataframe thead th {\n",
       "        text-align: right;\n",
       "    }\n",
       "</style>\n",
       "<table border=\"1\" class=\"dataframe\">\n",
       "  <thead>\n",
       "    <tr style=\"text-align: right;\">\n",
       "      <th></th>\n",
       "      <th>sepal length (cm)</th>\n",
       "      <th>sepal width (cm)</th>\n",
       "      <th>petal length (cm)</th>\n",
       "      <th>petal width (cm)</th>\n",
       "      <th>Species</th>\n",
       "    </tr>\n",
       "  </thead>\n",
       "  <tbody>\n",
       "    <tr>\n",
       "      <th>0</th>\n",
       "      <td>5.1</td>\n",
       "      <td>3.5</td>\n",
       "      <td>1.4</td>\n",
       "      <td>0.2</td>\n",
       "      <td>0.0</td>\n",
       "    </tr>\n",
       "  </tbody>\n",
       "</table>\n",
       "</div>"
      ],
      "text/plain": [
       "   sepal length (cm)  sepal width (cm)  petal length (cm)  petal width (cm)  \\\n",
       "0                5.1               3.5                1.4               0.2   \n",
       "\n",
       "   Species  \n",
       "0      0.0  "
      ]
     },
     "execution_count": 354,
     "metadata": {},
     "output_type": "execute_result"
    }
   ],
   "source": [
    "# ii. For a sample datapoint, predict the probabilities for each possible class\n",
    "print(\"Sample datapoint information: \")\n",
    "## pick the first data point as sample datapoint \n",
    "sample_datapoint = x[:1] \n",
    "\n",
    "##sample_datapoint with species \n",
    "sample_datapoint1 = df[:1]\n",
    "sample_datapoint1"
   ]
  },
  {
   "cell_type": "code",
   "execution_count": 355,
   "id": "5a232b1d",
   "metadata": {},
   "outputs": [
    {
     "name": "stdout",
     "output_type": "stream",
     "text": [
      "+-----------+----------------+---------------+\n",
      "|   Species | Species Name   | Probability   |\n",
      "|-----------+----------------+---------------|\n",
      "|         0 | Setosa         | 98%           |\n",
      "|         1 | Versicolor     | 2%            |\n",
      "|         2 | Virginica      | 0%            |\n",
      "+-----------+----------------+---------------+\n",
      "Total Probability:  1.0\n"
     ]
    }
   ],
   "source": [
    "## prediction\n",
    "prediction = Logistic_Reg.predict_proba(sample_datapoint)[0]\n",
    "data = {'Species': [0,1,2],\n",
    "        'Species Name': ['Setosa', 'Versicolor', 'Virginica'],\n",
    "        'Probability': [\"{:.0%}\".format(prediction[0]), \"{:.0%}\".format(prediction[1]), \"{:.0%}\".format(prediction[2])]}\n",
    "print(tabulate(data, headers=\"keys\", tablefmt='psql'))\n",
    "\n",
    "print(\"Total Probability: \" , prediction.sum())"
   ]
  },
  {
   "cell_type": "markdown",
   "id": "e82cc600",
   "metadata": {},
   "source": [
    "Our prediction is correct. We can see that the correct species for the sample datapoint is 0, which is setosa. In our predxiction, setosa have 97% probability to ve the species for the sample datapoint "
   ]
  },
  {
   "cell_type": "code",
   "execution_count": 356,
   "id": "4d51c1e1",
   "metadata": {},
   "outputs": [
    {
     "name": "stdout",
     "output_type": "stream",
     "text": [
      "The train score for Logistic Regression model:  0.9777777777777777\n",
      "The test score for Logistic Regression model  1.0\n"
     ]
    }
   ],
   "source": [
    "# iii. Report on the score for Logistic regression model, what does the score measure?\n",
    "\n",
    "train_score = Logistic_Reg.score(X_train,y_train)\n",
    "test_score = Logistic_Reg.score(X_test, y_test)\n",
    "print(\"The train score for Logistic Regression model: \",train_score)\n",
    "print(\"The test score for Logistic Regression model \",test_score)"
   ]
  },
  {
   "cell_type": "markdown",
   "id": "a1e7e9c7",
   "metadata": {},
   "source": [
    " As we know, the score() function from sklearn will return the mean accuracy on the given test data and labels. The best possible you can get is 1, which means the model can pefectly predict the label. Therefore, if the score is really close to 1, it means your models is very good and accurate at predicting the label. \n",
    "\n",
    "Our logistic regression model got the score of 0.9777 on the train date. The score is really close to 1, which means that our model is nearly perfect on predicting the species of the Iris during training. Based on the training data, the accuracy of this model is 97.7 % . \n",
    "\n",
    "Our logistic regression model got the score of 1 on the testing data. This means that our model perfectly predict the species of the Iris for all the testing dataset. This is impressive result that we get from our model. The score that we get indicate that our model is perfect on predicting the Iris species."
   ]
  },
  {
   "cell_type": "code",
   "execution_count": 357,
   "id": "d24fc0fa",
   "metadata": {},
   "outputs": [
    {
     "name": "stdout",
     "output_type": "stream",
     "text": [
      "Coefficent:  [[-0.41571775  0.94192769 -2.46751316 -1.06071945]\n",
      " [ 0.55919397 -0.33376745 -0.22914878 -0.87704082]\n",
      " [-0.14347622 -0.60816025  2.69666194  1.93776027]]\n",
      "Intercept:  [  9.64455738   2.13876161 -11.78331898]\n"
     ]
    },
    {
     "data": {
      "text/html": [
       "<div>\n",
       "<style scoped>\n",
       "    .dataframe tbody tr th:only-of-type {\n",
       "        vertical-align: middle;\n",
       "    }\n",
       "\n",
       "    .dataframe tbody tr th {\n",
       "        vertical-align: top;\n",
       "    }\n",
       "\n",
       "    .dataframe thead th {\n",
       "        text-align: right;\n",
       "    }\n",
       "</style>\n",
       "<table border=\"1\" class=\"dataframe\">\n",
       "  <thead>\n",
       "    <tr style=\"text-align: right;\">\n",
       "      <th></th>\n",
       "      <th>sepal length (cm)</th>\n",
       "      <th>sepal width (cm)</th>\n",
       "      <th>petal length (cm)</th>\n",
       "      <th>petal width (cm)</th>\n",
       "      <th>Intercept</th>\n",
       "    </tr>\n",
       "  </thead>\n",
       "  <tbody>\n",
       "    <tr>\n",
       "      <th>0</th>\n",
       "      <td>-0.415718</td>\n",
       "      <td>0.941928</td>\n",
       "      <td>-2.467513</td>\n",
       "      <td>-1.060719</td>\n",
       "      <td>9.644557</td>\n",
       "    </tr>\n",
       "    <tr>\n",
       "      <th>1</th>\n",
       "      <td>0.559194</td>\n",
       "      <td>-0.333767</td>\n",
       "      <td>-0.229149</td>\n",
       "      <td>-0.877041</td>\n",
       "      <td>2.138762</td>\n",
       "    </tr>\n",
       "    <tr>\n",
       "      <th>2</th>\n",
       "      <td>-0.143476</td>\n",
       "      <td>-0.608160</td>\n",
       "      <td>2.696662</td>\n",
       "      <td>1.937760</td>\n",
       "      <td>-11.783319</td>\n",
       "    </tr>\n",
       "  </tbody>\n",
       "</table>\n",
       "</div>"
      ],
      "text/plain": [
       "   sepal length (cm)  sepal width (cm)  petal length (cm)  petal width (cm)  \\\n",
       "0          -0.415718          0.941928          -2.467513         -1.060719   \n",
       "1           0.559194         -0.333767          -0.229149         -0.877041   \n",
       "2          -0.143476         -0.608160           2.696662          1.937760   \n",
       "\n",
       "   Intercept  \n",
       "0   9.644557  \n",
       "1   2.138762  \n",
       "2 -11.783319  "
      ]
     },
     "execution_count": 357,
     "metadata": {},
     "output_type": "execute_result"
    }
   ],
   "source": [
    "# iv. Extract the coefficents and intercepts for the boundary line(s)\n",
    "\n",
    "coefficent = Logistic_Reg.coef_\n",
    "intercept = Logistic_Reg.intercept_\n",
    "\n",
    "\n",
    "print(\"Coefficent: \", coefficent)\n",
    "print(\"Intercept: \", intercept)\n",
    "\n",
    "Logistic_Reg_df = pd.DataFrame(data=np.c_[coefficent, intercept], columns = iris['feature_names'] + ['Intercept'])\n",
    "Logistic_Reg_df"
   ]
  },
  {
   "cell_type": "markdown",
   "id": "d22169a7",
   "metadata": {},
   "source": [
    "# Part 4: Support Vector Machine\n"
   ]
  },
  {
   "cell_type": "code",
   "execution_count": 358,
   "id": "438f18c2",
   "metadata": {},
   "outputs": [
    {
     "name": "stdout",
     "output_type": "stream",
     "text": [
      "Probability:  0.97392126003248 0.01660627695901868 0.009472463008501119\n",
      "+-----------+----------------+---------------+\n",
      "|   Species | Species Name   | Probability   |\n",
      "|-----------+----------------+---------------|\n",
      "|         0 | Setosa         | 97%           |\n",
      "|         1 | Versicolor     | 2%            |\n",
      "|         2 | Virginica      | 1%            |\n",
      "+-----------+----------------+---------------+\n",
      "Total Probability:  0.9999999999999999\n"
     ]
    }
   ],
   "source": [
    "# i. Use sklearn to train a Support Vector Classifier on the training set\n",
    "\n",
    "svm_clf = svm.SVC(probability = True).fit(X_train,y_train.values.ravel())\n",
    "\n",
    "# ii. For a sample datapoint, predict the probabilities for each possible class\n",
    "\n",
    "## The same datapoint that I use above \n",
    "sample_datapoint = x[:1] \n",
    "\n",
    "##sample_datapoint with species \n",
    "sample_datapoint1 = df[:1]\n",
    "sample_datapoint1\n",
    "\n",
    "svm_prediction = svm_clf.predict_proba(sample_datapoint)[0]\n",
    "print(\"Probability: \", svm_prediction[0], svm_prediction[1], svm_prediction[2])\n",
    "data = {'Species': [0,1,2],\n",
    "        'Species Name': ['Setosa', 'Versicolor', 'Virginica'],\n",
    "        'Probability': [\"{:.0%}\".format(svm_prediction[0]), \"{:.0%}\".format(svm_prediction[1]), \"{:.0%}\".format(svm_prediction[2])]}\n",
    "print(tabulate(data, headers=\"keys\", tablefmt='psql'))\n",
    "\n",
    "print(\"Total Probability: \" , svm_prediction.sum())\n",
    "\n"
   ]
  },
  {
   "cell_type": "code",
   "execution_count": 359,
   "id": "234a5d4a",
   "metadata": {},
   "outputs": [
    {
     "name": "stdout",
     "output_type": "stream",
     "text": [
      "The train score for Support Vector model:  0.9629629629629629\n",
      "The test score for Support Vector model  1.0\n"
     ]
    }
   ],
   "source": [
    "# iii. Report on the score for the SVM, what does the score measure?\n",
    "\n",
    "svm_train_score = svm_clf.score(X_train,y_train)\n",
    "svm_test_score = svm_clf.score(X_test, y_test)\n",
    "print(\"The train score for Support Vector model: \",svm_train_score)\n",
    "print(\"The test score for Support Vector model \",svm_test_score)"
   ]
  },
  {
   "cell_type": "markdown",
   "id": "fcf7d8b4",
   "metadata": {},
   "source": [
    " As we know, the score() function from sklearn will return the mean accuracy on the given test data and labels. The best possible you can get is 1, which means the model can pefectly predict the label. Therefore, if the score is really close to 1, it means your models is very good and accurate at predicting the label. \n",
    "\n",
    "Our Support Vector model got the score of 0.963 on the train date. The score is really close to 1, which means that our model is nearly perfect on predicting the species of the Iris during training. Based on the training data, the accuracy of this model is 96.3 % . \n",
    "\n",
    "Our Support Vector model got the score of 1 on the testing data. This means that our model perfectly predict the species of the Iris for all the testing dataset. This is impressive result that we get from our model. The score that we get indicate that our model is perfect on predicting the Iris species."
   ]
  },
  {
   "cell_type": "markdown",
   "id": "fa57ba0c",
   "metadata": {},
   "source": [
    "# Part 5: Neural Network\n"
   ]
  },
  {
   "cell_type": "code",
   "execution_count": 360,
   "id": "abf9ba36",
   "metadata": {},
   "outputs": [
    {
     "data": {
      "text/plain": [
       "MLPClassifier(activation='tanh', alpha=1e-05, max_iter=1000, random_state=1,\n",
       "              solver='lbfgs')"
      ]
     },
     "execution_count": 360,
     "metadata": {},
     "output_type": "execute_result"
    }
   ],
   "source": [
    "# i. Use sklearn to train a Neural Network (MLP Classifier) on the training set\n",
    "\n",
    "nn_model = MLPClassifier(solver='lbfgs', alpha=1e-5, max_iter = 1000, activation = \"tanh\",\n",
    "                     hidden_layer_sizes=(100,), random_state=1)\n",
    "nn_model.fit(X_train, y_train.values.ravel())\n",
    "\n"
   ]
  },
  {
   "cell_type": "code",
   "execution_count": 361,
   "id": "589aac89",
   "metadata": {},
   "outputs": [
    {
     "name": "stdout",
     "output_type": "stream",
     "text": [
      "Probability:  1.0 2.0461584834053698e-26 1.2106788504769977e-86\n",
      "+-----------+----------------+---------------+\n",
      "|   Species | Species Name   | Probability   |\n",
      "|-----------+----------------+---------------|\n",
      "|         0 | Setosa         | 100%          |\n",
      "|         1 | Versicolor     | 0%            |\n",
      "|         2 | Virginica      | 0%            |\n",
      "+-----------+----------------+---------------+\n",
      "Total Probability:  1.0\n"
     ]
    }
   ],
   "source": [
    "# ii. For a sample datapoint, predict the probabilities for each possible class\n",
    "\n",
    "## The same datapoint that I use above \n",
    "sample_datapoint = x[:1] \n",
    "\n",
    "##sample_datapoint with species \n",
    "sample_datapoint1 = df[:1]\n",
    "sample_datapoint1\n",
    "\n",
    "nnm_prediction = nn_model.predict_proba(sample_datapoint)[0]\n",
    "\n",
    "print(\"Probability: \", nnm_prediction[0], nnm_prediction[1], nnm_prediction[2])\n",
    "data = {'Species': [0,1,2],\n",
    "        'Species Name': ['Setosa', 'Versicolor', 'Virginica'],\n",
    "        'Probability': [\"{:.0%}\".format(nnm_prediction[0]), \"{:.0%}\".format(nnm_prediction[1]), \"{:.0%}\".format(nnm_prediction[2])]}\n",
    "print(tabulate(data, headers=\"keys\", tablefmt='psql'))\n",
    "\n",
    "print(\"Total Probability: \" , nnm_prediction.sum())\n"
   ]
  },
  {
   "cell_type": "code",
   "execution_count": 362,
   "id": "19f3eaa6",
   "metadata": {},
   "outputs": [
    {
     "name": "stdout",
     "output_type": "stream",
     "text": [
      "The train score for  Neural Network model:  1.0\n",
      "The test score for  Neural Network model  1.0\n"
     ]
    }
   ],
   "source": [
    "# iii. Report on the score for the Neural Network, what does the score measure?\n",
    "nnm_train_score = nn_model.score(X_train,y_train)\n",
    "nnm_test_score = nn_model.score(X_test, y_test)\n",
    "print(\"The train score for  Neural Network model: \",nnm_train_score)\n",
    "print(\"The test score for  Neural Network model \",nnm_test_score)\n"
   ]
  },
  {
   "cell_type": "markdown",
   "id": "799d7266",
   "metadata": {},
   "source": [
    " As we know, the score() function from sklearn will return the mean accuracy on the given test data and labels. The best possible you can get is 1, which means the model can pefectly predict the label. Therefore, if the score is really close to 1, it means your models is very good and accurate at predicting the label. \n",
    "\n",
    "Our Neural Network model got the score of 1 on the train date. This means that our model perfectly predict the species of the Iris for all the training dataset. Based on the training data, the accuracy of this model is 100 % . \n",
    "\n",
    "Our Neural Network model got the score of 1 on the testing data. This means that our model perfectly predict the species of the Iris for all the testing dataset. This is impressive result that we get from our model. The score that we get indicate that our model is perfect on predicting the Iris species. Also, computer with logistic regression and SVM, this is the first time I get the perfect score on both of my dataset. This can prove neural network is very strong on predicting Iris species. "
   ]
  },
  {
   "cell_type": "markdown",
   "id": "c286d99d",
   "metadata": {},
   "source": [
    "### iv: Experiment with different options for the neural network, report on your best configuration (the highest score I was able to achieve was 0.8666)\n",
    "\n",
    "The highest scores I got was 1 on both the training data and testing data \n",
    "\n",
    "-  The best configuation :\n",
    "    - solver='lbfgs'\n",
    "    - alpha=1e-5\n",
    "    - max_iter = 1000\n",
    "    - activation = \"tanh\"\n",
    "    - hidden_layer_sizes=(100,)\n",
    "    - random_state=1\n",
    "\n",
    "\n"
   ]
  },
  {
   "cell_type": "markdown",
   "id": "8558f1ba",
   "metadata": {},
   "source": [
    "# Part 6: K-Nearest Neighbors\n"
   ]
  },
  {
   "cell_type": "code",
   "execution_count": 363,
   "id": "a599db1b",
   "metadata": {},
   "outputs": [
    {
     "data": {
      "text/plain": [
       "KNeighborsClassifier(n_neighbors=1)"
      ]
     },
     "execution_count": 363,
     "metadata": {},
     "output_type": "execute_result"
    }
   ],
   "source": [
    "# i. Use sklearn to 'train' a k-Neighbors Classifier\n",
    "# Note: KNN is a nonparametric model and technically doesn't require training\n",
    "# fit will essentially load the data into the model see link below for more information\n",
    "# https://stats.stackexchange.com/questions/349842/why-do-we-need-to-fit-a-k-nearest-neighbors-classifier\n",
    "\n",
    "neigh = KNeighborsClassifier(n_neighbors=1)\n",
    "neigh.fit(X_train, y_train.values.ravel())\n"
   ]
  },
  {
   "cell_type": "code",
   "execution_count": 364,
   "id": "2de3c2e4",
   "metadata": {},
   "outputs": [
    {
     "name": "stdout",
     "output_type": "stream",
     "text": [
      "Probability:  1.0 0.0 0.0\n",
      "+-----------+----------------+---------------+\n",
      "|   Species | Species Name   | Probability   |\n",
      "|-----------+----------------+---------------|\n",
      "|         0 | Setosa         | 100%          |\n",
      "|         1 | Versicolor     | 0%            |\n",
      "|         2 | Virginica      | 0%            |\n",
      "+-----------+----------------+---------------+\n",
      "Total Probability:  1.0\n"
     ]
    }
   ],
   "source": [
    "# ii. For a sample datapoint, predict the probabilities for each possible class\n",
    "\n",
    "\n",
    "## The same datapoint that I use above \n",
    "sample_datapoint = x[:1] \n",
    "\n",
    "##sample_datapoint with species \n",
    "sample_datapoint1 = df[:1]\n",
    "sample_datapoint1\n",
    "\n",
    "k_prediction = neigh.predict_proba(sample_datapoint)[0]\n",
    "\n",
    "print(\"Probability: \", k_prediction[0], k_prediction[1], k_prediction[2])\n",
    "data = {'Species': [0,1,2],\n",
    "        'Species Name': ['Setosa', 'Versicolor', 'Virginica'],\n",
    "        'Probability': [\"{:.0%}\".format(k_prediction[0]), \"{:.0%}\".format(k_prediction[1]), \"{:.0%}\".format(k_prediction[2])]}\n",
    "print(tabulate(data, headers=\"keys\", tablefmt='psql'))\n",
    "\n",
    "print(\"Total Probability: \" , k_prediction.sum())\n"
   ]
  },
  {
   "cell_type": "code",
   "execution_count": 365,
   "id": "feec7f74",
   "metadata": {},
   "outputs": [
    {
     "name": "stdout",
     "output_type": "stream",
     "text": [
      "The train score for K-Nearest Neighbors model:  1.0\n",
      "The test score for K-Nearest Neighbors model  1.0\n"
     ]
    }
   ],
   "source": [
    "# iii. Report on the score for kNN, what does the score measure?\n",
    "\n",
    "k_train_score = neigh.score(X_train,y_train)\n",
    "k_test_score = neigh.score(X_test, y_test)\n",
    "print(\"The train score for K-Nearest Neighbors model: \",k_train_score)\n",
    "print(\"The test score for K-Nearest Neighbors model \",k_test_score)"
   ]
  },
  {
   "cell_type": "markdown",
   "id": "4cd3a051",
   "metadata": {},
   "source": [
    " As we know, the score() function from sklearn will return the mean accuracy on the given test data and labels. The best possible you can get is 1, which means the model can pefectly predict the label. Therefore, if the score is really close to 1, it means your models is very good and accurate at predicting the label. \n",
    "\n",
    "Our K-Nearest Neighbors model got the score of 0.96 on the train date. The score is really close to 1, which means that our model is nearly perfect on predicting the species of the Iris during training. Based on the training data, the accuracy of this model is 96.2 % . \n",
    "\n",
    "Our K-Nearest Neighbors model got the score of 1 on the testing data. This means that our model perfectly predict the species of the Iris for all the testing dataset. This is impressive result that we get from our model. The score that we get indicate that our model is perfect on predicting the Iris species."
   ]
  },
  {
   "cell_type": "markdown",
   "id": "b28d9018",
   "metadata": {},
   "source": [
    "# Part 7: Conclusions and takeaways\n"
   ]
  },
  {
   "cell_type": "markdown",
   "id": "e82cc360",
   "metadata": {},
   "source": [
    "### In your own words describe the results of the notebook. Which model(s) performed the best on the dataset? Why do you think that is? Did anything surprise you about the exercise?"
   ]
  },
  {
   "cell_type": "markdown",
   "id": "d3410b3f",
   "metadata": {},
   "source": [
    "#### Model Summary \n",
    "\n",
    "| Model                 | Training Score     | Testing Score |\n",
    "|-----------------------|--------------------|---------------|\n",
    "| Logistic Regression   | 0.9777777777777777 | 1.0           |\n",
    "| Suport Vector Machine | 0.9629629629629629 | 1.0           |\n",
    "| Neural Network        | 1.0                | 1.0           |\n",
    "| K-Nearest Neighbors   | 1.0                | 1.0           |\n",
    "\n",
    "\n",
    " * In this notebook, I use four different classification models on the Iris flower Dateset. I split the dataset into training data and testing data (90 % train and 10 test). The result is very surprised. After using the training data to train the model, the testing score for all four models are all 1.0, which means these four models are perfectly predict the Iris species based on their information about sepal length, sepal width , petal length and petal width. Even their trainijg score are all above 0.95 and two model have the prefect score on both training and testing. "
   ]
  },
  {
   "cell_type": "markdown",
   "id": "32cc5e0f",
   "metadata": {},
   "source": [
    "#### Which model performed the best on the dataset ?\n",
    "\n",
    "* I think Neural Network and K-Nearest Neighbors perform the best on the dataset. The have the perfect scores on both the training data and testing score. Also, when I pick a datapoint to predict the result, they both have 100 % probability on choosing the correct species. "
   ]
  },
  {
   "cell_type": "markdown",
   "id": "bfb9db01",
   "metadata": {},
   "source": [
    "#### Why do you think that is?\n",
    "\n",
    "* I think neural network and k-nearest neighbor are non-linear classification models. If a problem is nonlinear and its class boundaries cannot be approximated well with linear hyperphanes, then nonlinear classifers are often more accurate than linear classifiers. In this case, I think the Iris flower dataset is nonlinear, so network and k-nearest will perform the best on the dataset. \n"
   ]
  },
  {
   "cell_type": "markdown",
   "id": "57291be1",
   "metadata": {},
   "source": [
    "#### Did anything surprise you about the exercise?\n"
   ]
  },
  {
   "cell_type": "markdown",
   "id": "5a0221cc",
   "metadata": {},
   "source": [
    " * One thing that surprise me is that all of the model are perfectly predict the testing data. This is so magical.\n",
    " * When I adjust the configuration of the k-nearest neighbor model, I find out that n_neighbors=1 will get the best result. However, when I increase the n_neighbors, it become worse and worse. \n",
    " * I need to try so many time to find the right configuration in order for the model to have the best performance "
   ]
  }
 ],
 "metadata": {
  "kernelspec": {
   "display_name": "Python 3",
   "language": "python",
   "name": "python3"
  },
  "language_info": {
   "codemirror_mode": {
    "name": "ipython",
    "version": 3
   },
   "file_extension": ".py",
   "mimetype": "text/x-python",
   "name": "python",
   "nbconvert_exporter": "python",
   "pygments_lexer": "ipython3",
   "version": "3.8.8"
  }
 },
 "nbformat": 4,
 "nbformat_minor": 5
}
