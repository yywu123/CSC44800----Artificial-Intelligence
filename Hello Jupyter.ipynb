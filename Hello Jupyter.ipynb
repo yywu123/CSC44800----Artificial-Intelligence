{
 "cells": [
  {
   "cell_type": "code",
   "execution_count": 1,
   "id": "d2d397bb",
   "metadata": {},
   "outputs": [
    {
     "name": "stdout",
     "output_type": "stream",
     "text": [
      "Hello Jupyter!\n"
     ]
    }
   ],
   "source": [
    "print('Hello Jupyter!')"
   ]
  },
  {
   "cell_type": "markdown",
   "id": "314c4d1b",
   "metadata": {},
   "source": [
    "User single _underscores_ or single *asterisks* to get italics"
   ]
  },
  {
   "cell_type": "markdown",
   "id": "155d9018",
   "metadata": {},
   "source": [
    "# Heading\n",
    "## Heading \n",
    "### Heading "
   ]
  },
  {
   "cell_type": "markdown",
   "id": "35ac73ac",
   "metadata": {},
   "source": [
    "* item 1\n",
    "* item 2\n",
    "* item 3\n",
    "    * sub-item 1\n"
   ]
  },
  {
   "cell_type": "markdown",
   "id": "073a5875",
   "metadata": {},
   "source": [
    "``` python\n",
    "x = \"Syntax Highlighting for Python\"\n",
    "print(x)\n",
    "```"
   ]
  },
  {
   "cell_type": "code",
   "execution_count": null,
   "id": "60774804",
   "metadata": {},
   "outputs": [],
   "source": []
  }
 ],
 "metadata": {
  "kernelspec": {
   "display_name": "Python 3",
   "language": "python",
   "name": "python3"
  },
  "language_info": {
   "codemirror_mode": {
    "name": "ipython",
    "version": 3
   },
   "file_extension": ".py",
   "mimetype": "text/x-python",
   "name": "python",
   "nbconvert_exporter": "python",
   "pygments_lexer": "ipython3",
   "version": "3.8.8"
  }
 },
 "nbformat": 4,
 "nbformat_minor": 5
}
