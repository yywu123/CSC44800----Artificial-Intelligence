{
 "cells": [
  {
   "cell_type": "markdown",
   "id": "5c7ab054",
   "metadata": {},
   "source": [
    "# Assignment 2 :  Number Guessing Game "
   ]
  },
  {
   "cell_type": "markdown",
   "id": "44176707",
   "metadata": {},
   "source": [
    "## Abstract :"
   ]
  },
  {
   "cell_type": "markdown",
   "id": "bfd5af2b",
   "metadata": {},
   "source": [
    "For this assignment, I will implement and explain the number guessing game. This is a interesting and simple game that I made when I was learning Python. This game mainly take advantage of while loop, if statement, input function, random number generator from Python to realize a simple interactive game. "
   ]
  },
  {
   "cell_type": "markdown",
   "id": "d3d4aeb2",
   "metadata": {},
   "source": [
    "# Game Process : "
   ]
  },
  {
   "cell_type": "markdown",
   "id": "1cb21594",
   "metadata": {},
   "source": [
    "### Imports and Initialize :"
   ]
  },
  {
   "cell_type": "code",
   "execution_count": 1,
   "id": "619f1da7",
   "metadata": {},
   "outputs": [],
   "source": [
    "\n",
    "from random import randint\n",
    "\n",
    "EASY_LEVEL = 10\n",
    "HARD_LEVEL = 5\n"
   ]
  },
  {
   "cell_type": "markdown",
   "id": "938228cb",
   "metadata": {},
   "source": [
    "For this game, I need to have a random number generator to generate number for the user to guess. So I first import randint function from random module. Next, for this game , the user can choose two different difficulty. If the user choose the easy level, they will have 10 chance to guess the correct answer. If the user choose the hard level, they will have 5 chance to guess correct number. "
   ]
  },
  {
   "cell_type": "markdown",
   "id": "28416eb0",
   "metadata": {},
   "source": [
    "### Set Difficulty Function"
   ]
  },
  {
   "cell_type": "code",
   "execution_count": 2,
   "id": "00139a57",
   "metadata": {},
   "outputs": [
    {
     "name": "stdout",
     "output_type": "stream",
     "text": [
      "Choose a difficulty. Type 'easy' or 'hard': easy\n",
      "10\n",
      "Choose a difficulty. Type 'easy' or 'hard': hard\n",
      "5\n"
     ]
    }
   ],
   "source": [
    "def set_difficulty():\n",
    "    choose = input(\"Choose a difficulty. Type 'easy' or 'hard': \")\n",
    "    if choose == 'easy':\n",
    "      return EASY_LEVEL\n",
    "    elif choose == 'hard':\n",
    "      return HARD_LEVEL \n",
    "\n",
    "print(set_difficulty())\n",
    "print(set_difficulty())"
   ]
  },
  {
   "cell_type": "markdown",
   "id": "65007d57",
   "metadata": {},
   "source": [
    "This the goal of this function is to ask the user about the difficulty of the game that they want to play and return the correspond chance for this game. If the user enter easy, they will get 10 chance. If the user enter hard, they will get 5 chance."
   ]
  },
  {
   "cell_type": "markdown",
   "id": "b22ea7ce",
   "metadata": {},
   "source": [
    "### Check Answer Function"
   ]
  },
  {
   "cell_type": "code",
   "execution_count": 3,
   "id": "6dc3105b",
   "metadata": {},
   "outputs": [],
   "source": [
    "def check_answer(your_guess, answer, chance):\n",
    "    if your_guess == answer:\n",
    "        print(f\"You got it! The answer was {your_guess}\")\n",
    "        return chance\n",
    "    elif your_guess > answer : \n",
    "        print(\"Too high\")\n",
    "        chance -= 1\n",
    "        return chance\n",
    "    else:\n",
    "        print(\"Too Low\") \n",
    "        chance -= 1\n",
    "        return chance\n"
   ]
  },
  {
   "cell_type": "markdown",
   "id": "affb563e",
   "metadata": {},
   "source": [
    "The goal of this function is to check if the user's guess is correct or not. This function take three inputs, your_guess : the user's guess, answer : the correct answer, chance : the chance that the user remain. If your_guess = answer, it will tell the user they win. If your_guess is different from the answer, it will give a hint to the user whether their guess is too high or too low. And then the user will lose 1 chance to play. "
   ]
  },
  {
   "cell_type": "code",
   "execution_count": 4,
   "id": "9ef27083",
   "metadata": {},
   "outputs": [
    {
     "name": "stdout",
     "output_type": "stream",
     "text": [
      "Too Low\n",
      "5\n",
      "Too high\n",
      "4\n",
      "You got it! The answer was 20\n",
      "4\n"
     ]
    }
   ],
   "source": [
    "# Test for your guess is smaller than the answer\n",
    "print(check_answer(10,20,6))\n",
    "# Test for your guess is bigger than the answer\n",
    "print(check_answer(30,20,5))\n",
    "# Test for your guess is equal answer\n",
    "print(check_answer(20,20,4))\n"
   ]
  },
  {
   "cell_type": "markdown",
   "id": "38f359dd",
   "metadata": {},
   "source": [
    "Testing Example\n",
    "1. When your_guess = 10, answer = 20 , chance = 6. The check_answer function will determine your_guess is less than answer, so it output Too Low as a hint and decrease chance by 1.  \n",
    "2. When your_guess = 30, answer = 20 , chance = 5. The check_answer function will determine your_guess is larger than answer, so it output Too High as a hint and decrease chance by 1.\n",
    "3. When your_guess = 20, answer = 20 , chance = 4. In this case, your_guess == answer. The function will output \"You win! The answer was 20. \""
   ]
  },
  {
   "cell_type": "markdown",
   "id": "b9ae0d2a",
   "metadata": {},
   "source": [
    "### The Main game Function : "
   ]
  },
  {
   "cell_type": "code",
   "execution_count": 5,
   "id": "337b182e",
   "metadata": {},
   "outputs": [],
   "source": [
    "def game():\n",
    "    \n",
    "    print(\"\"\"\n",
    "\n",
    "    ╭━╮╱╭╮╱╱╱╱╱╭╮╱╱╱╱╱╱╱╭━━━╮╱╱╱╱╱╱╱╱╱╱╱╱╱╱╱╱╱╱╱╭━━━╮\n",
    "    ┃┃╰╮┃┃╱╱╱╱╱┃┃╱╱╱╱╱╱╱┃╭━╮┃╱╱╱╱╱╱╱╱╱╱╱╱╱╱╱╱╱╱╱┃╭━╮┃\n",
    "    ┃╭╮╰╯┣╮╭┳╮╭┫╰━┳━━┳━╮┃┃╱╰╋╮╭┳━━┳━━┳━━┳┳━╮╭━━╮┃┃╱╰╋━━┳╮╭┳━━╮\n",
    "    ┃┃╰╮┃┃┃┃┃╰╯┃╭╮┃┃━┫╭╯┃┃╭━┫┃┃┃┃━┫━━┫━━╋┫╭╮┫╭╮┃┃┃╭━┫╭╮┃╰╯┃┃━┫\n",
    "    ┃┃╱┃┃┃╰╯┃┃┃┃╰╯┃┃━┫┃╱┃╰┻━┃╰╯┃┃━╋━━┣━━┃┃┃┃┃╰╯┃┃╰┻━┃╭╮┃┃┃┃┃━┫\n",
    "    ╰╯╱╰━┻━━┻┻┻┻━━┻━━┻╯╱╰━━━┻━━┻━━┻━━┻━━┻┻╯╰┻━╮┃╰━━━┻╯╰┻┻┻┻━━╯\n",
    "    ╱╱╱╱╱╱╱╱╱╱╱╱╱╱╱╱╱╱╱╱╱╱╱╱╱╱╱╱╱╱╱╱╱╱╱╱╱╱╱╱╭━╯┃\n",
    "    ╱╱╱╱╱╱╱╱╱╱╱╱╱╱╱╱╱╱╱╱╱╱╱╱╱╱╱╱╱╱╱╱╱╱╱╱╱╱╱╱╰━━╯\n",
    "    \"\"\")\n",
    "    print(\"Welcome too the Number Guessing Game!\")\n",
    "    print(\"You have to guess a number between 1 and 100.\")\n",
    "    \n",
    "    answer = randint(1,100)\n",
    "    chance = set_difficulty()\n",
    "    \n",
    "    your_guess = 0 \n",
    "    while your_guess != answer :\n",
    "        \n",
    "        print(f\"You have {chance} attempts remaining to guess the number.\")\n",
    "        your_guess = int(input(\"Make a guess:\"))\n",
    "        \n",
    "        chance = check_answer(your_guess,answer, chance)\n",
    "        \n",
    "        if chance == 0 :\n",
    "            print(\"You've run out of guesses, you lose \")\n",
    "            return\n",
    "        elif your_guess != answer:\n",
    "            print(\"Guess again\")\n",
    "                                                                                                            \n",
    "                                                                                                                  "
   ]
  },
  {
   "cell_type": "markdown",
   "id": "922ba524",
   "metadata": {},
   "source": [
    "### Main game program rundown\n",
    "\n",
    "Whe the game first run, the player will enter a entry page. In the entry page, the player will see a ASCII text logo of Number Guessing game and welcoming text. And then the player have to choose difficulty for the game. Also, in this time the program will randomly choose a number between 1 and 100. \n",
    "\n",
    "Example : "
   ]
  },
  {
   "cell_type": "code",
   "execution_count": 6,
   "id": "0211d538",
   "metadata": {},
   "outputs": [
    {
     "name": "stdout",
     "output_type": "stream",
     "text": [
      "\n",
      "\n",
      "╭━╮╱╭╮╱╱╱╱╱╭╮╱╱╱╱╱╱╱╭━━━╮╱╱╱╱╱╱╱╱╱╱╱╱╱╱╱╱╱╱╱╭━━━╮\n",
      "┃┃╰╮┃┃╱╱╱╱╱┃┃╱╱╱╱╱╱╱┃╭━╮┃╱╱╱╱╱╱╱╱╱╱╱╱╱╱╱╱╱╱╱┃╭━╮┃\n",
      "┃╭╮╰╯┣╮╭┳╮╭┫╰━┳━━┳━╮┃┃╱╰╋╮╭┳━━┳━━┳━━┳┳━╮╭━━╮┃┃╱╰╋━━┳╮╭┳━━╮\n",
      "┃┃╰╮┃┃┃┃┃╰╯┃╭╮┃┃━┫╭╯┃┃╭━┫┃┃┃┃━┫━━┫━━╋┫╭╮┫╭╮┃┃┃╭━┫╭╮┃╰╯┃┃━┫\n",
      "┃┃╱┃┃┃╰╯┃┃┃┃╰╯┃┃━┫┃╱┃╰┻━┃╰╯┃┃━╋━━┣━━┃┃┃┃┃╰╯┃┃╰┻━┃╭╮┃┃┃┃┃━┫\n",
      "╰╯╱╰━┻━━┻┻┻┻━━┻━━┻╯╱╰━━━┻━━┻━━┻━━┻━━┻┻╯╰┻━╮┃╰━━━┻╯╰┻┻┻┻━━╯\n",
      "╱╱╱╱╱╱╱╱╱╱╱╱╱╱╱╱╱╱╱╱╱╱╱╱╱╱╱╱╱╱╱╱╱╱╱╱╱╱╱╱╭━╯┃\n",
      "╱╱╱╱╱╱╱╱╱╱╱╱╱╱╱╱╱╱╱╱╱╱╱╱╱╱╱╱╱╱╱╱╱╱╱╱╱╱╱╱╰━━╯\n",
      "\n",
      "Welcome too the Number Guessing Game!\n",
      "You have to guess a number between 1 and 100.\n",
      "Choose a difficulty. Type 'easy' or 'hard': easy\n"
     ]
    }
   ],
   "source": [
    "    print(\"\"\"\n",
    "\n",
    "    ╭━╮╱╭╮╱╱╱╱╱╭╮╱╱╱╱╱╱╱╭━━━╮╱╱╱╱╱╱╱╱╱╱╱╱╱╱╱╱╱╱╱╭━━━╮\n",
    "    ┃┃╰╮┃┃╱╱╱╱╱┃┃╱╱╱╱╱╱╱┃╭━╮┃╱╱╱╱╱╱╱╱╱╱╱╱╱╱╱╱╱╱╱┃╭━╮┃\n",
    "    ┃╭╮╰╯┣╮╭┳╮╭┫╰━┳━━┳━╮┃┃╱╰╋╮╭┳━━┳━━┳━━┳┳━╮╭━━╮┃┃╱╰╋━━┳╮╭┳━━╮\n",
    "    ┃┃╰╮┃┃┃┃┃╰╯┃╭╮┃┃━┫╭╯┃┃╭━┫┃┃┃┃━┫━━┫━━╋┫╭╮┫╭╮┃┃┃╭━┫╭╮┃╰╯┃┃━┫\n",
    "    ┃┃╱┃┃┃╰╯┃┃┃┃╰╯┃┃━┫┃╱┃╰┻━┃╰╯┃┃━╋━━┣━━┃┃┃┃┃╰╯┃┃╰┻━┃╭╮┃┃┃┃┃━┫\n",
    "    ╰╯╱╰━┻━━┻┻┻┻━━┻━━┻╯╱╰━━━┻━━┻━━┻━━┻━━┻┻╯╰┻━╮┃╰━━━┻╯╰┻┻┻┻━━╯\n",
    "    ╱╱╱╱╱╱╱╱╱╱╱╱╱╱╱╱╱╱╱╱╱╱╱╱╱╱╱╱╱╱╱╱╱╱╱╱╱╱╱╱╭━╯┃\n",
    "    ╱╱╱╱╱╱╱╱╱╱╱╱╱╱╱╱╱╱╱╱╱╱╱╱╱╱╱╱╱╱╱╱╱╱╱╱╱╱╱╱╰━━╯\n",
    "    \"\"\")\n",
    "    print(\"Welcome too the Number Guessing Game!\")\n",
    "    print(\"You have to guess a number between 1 and 100.\")\n",
    "    \n",
    "    answer = randint(1,100)\n",
    "    chance = set_difficulty()\n",
    "    "
   ]
  },
  {
   "cell_type": "markdown",
   "id": "ebe2019e",
   "metadata": {},
   "source": [
    "---\n",
    "After the player choose the difficulty, the game will enter a while loop. In the while loop, the player have to keep guessing the correct number for the answer. If they get wrong answer, the program will give a hint to tell them whatever their guess is too low or too high. In the same time, the chance will decrease by 1. There are two way for the user to get out of the loop. \n",
    "\n",
    "1. If the player guess the correct answer when the chance is not 0, the player win. \n",
    "2. If the chance equal to 0, the player lose.  "
   ]
  },
  {
   "cell_type": "markdown",
   "id": "10efdfd5",
   "metadata": {},
   "source": [
    "### Four Different Result:"
   ]
  },
  {
   "cell_type": "markdown",
   "id": "1a87e208",
   "metadata": {},
   "source": [
    "1. Easy Level -- Player win"
   ]
  },
  {
   "cell_type": "code",
   "execution_count": 7,
   "id": "52523fad",
   "metadata": {},
   "outputs": [
    {
     "name": "stdout",
     "output_type": "stream",
     "text": [
      "\n",
      "\n",
      "    ╭━╮╱╭╮╱╱╱╱╱╭╮╱╱╱╱╱╱╱╭━━━╮╱╱╱╱╱╱╱╱╱╱╱╱╱╱╱╱╱╱╱╭━━━╮\n",
      "    ┃┃╰╮┃┃╱╱╱╱╱┃┃╱╱╱╱╱╱╱┃╭━╮┃╱╱╱╱╱╱╱╱╱╱╱╱╱╱╱╱╱╱╱┃╭━╮┃\n",
      "    ┃╭╮╰╯┣╮╭┳╮╭┫╰━┳━━┳━╮┃┃╱╰╋╮╭┳━━┳━━┳━━┳┳━╮╭━━╮┃┃╱╰╋━━┳╮╭┳━━╮\n",
      "    ┃┃╰╮┃┃┃┃┃╰╯┃╭╮┃┃━┫╭╯┃┃╭━┫┃┃┃┃━┫━━┫━━╋┫╭╮┫╭╮┃┃┃╭━┫╭╮┃╰╯┃┃━┫\n",
      "    ┃┃╱┃┃┃╰╯┃┃┃┃╰╯┃┃━┫┃╱┃╰┻━┃╰╯┃┃━╋━━┣━━┃┃┃┃┃╰╯┃┃╰┻━┃╭╮┃┃┃┃┃━┫\n",
      "    ╰╯╱╰━┻━━┻┻┻┻━━┻━━┻╯╱╰━━━┻━━┻━━┻━━┻━━┻┻╯╰┻━╮┃╰━━━┻╯╰┻┻┻┻━━╯\n",
      "    ╱╱╱╱╱╱╱╱╱╱╱╱╱╱╱╱╱╱╱╱╱╱╱╱╱╱╱╱╱╱╱╱╱╱╱╱╱╱╱╱╭━╯┃\n",
      "    ╱╱╱╱╱╱╱╱╱╱╱╱╱╱╱╱╱╱╱╱╱╱╱╱╱╱╱╱╱╱╱╱╱╱╱╱╱╱╱╱╰━━╯\n",
      "    \n",
      "Welcome too the Number Guessing Game!\n",
      "You have to guess a number between 1 and 100.\n",
      "Choose a difficulty. Type 'easy' or 'hard': easy\n",
      "You have 10 attempts remaining to guess the number.\n",
      "Make a guess:50\n",
      "Too Low\n",
      "Guess again\n",
      "You have 9 attempts remaining to guess the number.\n",
      "Make a guess:70\n",
      "Too high\n",
      "Guess again\n",
      "You have 8 attempts remaining to guess the number.\n",
      "Make a guess:60\n",
      "Too high\n",
      "Guess again\n",
      "You have 7 attempts remaining to guess the number.\n",
      "Make a guess:57\n",
      "Too high\n",
      "Guess again\n",
      "You have 6 attempts remaining to guess the number.\n",
      "Make a guess:54\n",
      "Too high\n",
      "Guess again\n",
      "You have 5 attempts remaining to guess the number.\n",
      "Make a guess:53\n",
      "You got it! The answer was 53\n"
     ]
    }
   ],
   "source": [
    "game()"
   ]
  },
  {
   "cell_type": "markdown",
   "id": "0b18d820",
   "metadata": {},
   "source": [
    "2. Easy Level -- Player Lose"
   ]
  },
  {
   "cell_type": "code",
   "execution_count": 8,
   "id": "f22db94a",
   "metadata": {},
   "outputs": [
    {
     "name": "stdout",
     "output_type": "stream",
     "text": [
      "\n",
      "\n",
      "    ╭━╮╱╭╮╱╱╱╱╱╭╮╱╱╱╱╱╱╱╭━━━╮╱╱╱╱╱╱╱╱╱╱╱╱╱╱╱╱╱╱╱╭━━━╮\n",
      "    ┃┃╰╮┃┃╱╱╱╱╱┃┃╱╱╱╱╱╱╱┃╭━╮┃╱╱╱╱╱╱╱╱╱╱╱╱╱╱╱╱╱╱╱┃╭━╮┃\n",
      "    ┃╭╮╰╯┣╮╭┳╮╭┫╰━┳━━┳━╮┃┃╱╰╋╮╭┳━━┳━━┳━━┳┳━╮╭━━╮┃┃╱╰╋━━┳╮╭┳━━╮\n",
      "    ┃┃╰╮┃┃┃┃┃╰╯┃╭╮┃┃━┫╭╯┃┃╭━┫┃┃┃┃━┫━━┫━━╋┫╭╮┫╭╮┃┃┃╭━┫╭╮┃╰╯┃┃━┫\n",
      "    ┃┃╱┃┃┃╰╯┃┃┃┃╰╯┃┃━┫┃╱┃╰┻━┃╰╯┃┃━╋━━┣━━┃┃┃┃┃╰╯┃┃╰┻━┃╭╮┃┃┃┃┃━┫\n",
      "    ╰╯╱╰━┻━━┻┻┻┻━━┻━━┻╯╱╰━━━┻━━┻━━┻━━┻━━┻┻╯╰┻━╮┃╰━━━┻╯╰┻┻┻┻━━╯\n",
      "    ╱╱╱╱╱╱╱╱╱╱╱╱╱╱╱╱╱╱╱╱╱╱╱╱╱╱╱╱╱╱╱╱╱╱╱╱╱╱╱╱╭━╯┃\n",
      "    ╱╱╱╱╱╱╱╱╱╱╱╱╱╱╱╱╱╱╱╱╱╱╱╱╱╱╱╱╱╱╱╱╱╱╱╱╱╱╱╱╰━━╯\n",
      "    \n",
      "Welcome too the Number Guessing Game!\n",
      "You have to guess a number between 1 and 100.\n",
      "Choose a difficulty. Type 'easy' or 'hard': easy\n",
      "You have 10 attempts remaining to guess the number.\n",
      "Make a guess:10\n",
      "Too Low\n",
      "Guess again\n",
      "You have 9 attempts remaining to guess the number.\n",
      "Make a guess:20\n",
      "Too Low\n",
      "Guess again\n",
      "You have 8 attempts remaining to guess the number.\n",
      "Make a guess:30\n",
      "Too Low\n",
      "Guess again\n",
      "You have 7 attempts remaining to guess the number.\n",
      "Make a guess:40\n",
      "Too Low\n",
      "Guess again\n",
      "You have 6 attempts remaining to guess the number.\n",
      "Make a guess:50\n",
      "Too Low\n",
      "Guess again\n",
      "You have 5 attempts remaining to guess the number.\n",
      "Make a guess:60\n",
      "Too Low\n",
      "Guess again\n",
      "You have 4 attempts remaining to guess the number.\n",
      "Make a guess:70\n",
      "Too high\n",
      "Guess again\n",
      "You have 3 attempts remaining to guess the number.\n",
      "Make a guess:80\n",
      "Too high\n",
      "Guess again\n",
      "You have 2 attempts remaining to guess the number.\n",
      "Make a guess:90\n",
      "Too high\n",
      "Guess again\n",
      "You have 1 attempts remaining to guess the number.\n",
      "Make a guess:77\n",
      "Too high\n",
      "You've run out of guesses, you lose \n"
     ]
    }
   ],
   "source": [
    "game()"
   ]
  },
  {
   "cell_type": "markdown",
   "id": "d0bcfaad",
   "metadata": {},
   "source": [
    " 3. Hard Level -- Player win\n"
   ]
  },
  {
   "cell_type": "code",
   "execution_count": 23,
   "id": "c52a8e5c",
   "metadata": {},
   "outputs": [
    {
     "name": "stdout",
     "output_type": "stream",
     "text": [
      "\n",
      "\n",
      "    ╭━╮╱╭╮╱╱╱╱╱╭╮╱╱╱╱╱╱╱╭━━━╮╱╱╱╱╱╱╱╱╱╱╱╱╱╱╱╱╱╱╱╭━━━╮\n",
      "    ┃┃╰╮┃┃╱╱╱╱╱┃┃╱╱╱╱╱╱╱┃╭━╮┃╱╱╱╱╱╱╱╱╱╱╱╱╱╱╱╱╱╱╱┃╭━╮┃\n",
      "    ┃╭╮╰╯┣╮╭┳╮╭┫╰━┳━━┳━╮┃┃╱╰╋╮╭┳━━┳━━┳━━┳┳━╮╭━━╮┃┃╱╰╋━━┳╮╭┳━━╮\n",
      "    ┃┃╰╮┃┃┃┃┃╰╯┃╭╮┃┃━┫╭╯┃┃╭━┫┃┃┃┃━┫━━┫━━╋┫╭╮┫╭╮┃┃┃╭━┫╭╮┃╰╯┃┃━┫\n",
      "    ┃┃╱┃┃┃╰╯┃┃┃┃╰╯┃┃━┫┃╱┃╰┻━┃╰╯┃┃━╋━━┣━━┃┃┃┃┃╰╯┃┃╰┻━┃╭╮┃┃┃┃┃━┫\n",
      "    ╰╯╱╰━┻━━┻┻┻┻━━┻━━┻╯╱╰━━━┻━━┻━━┻━━┻━━┻┻╯╰┻━╮┃╰━━━┻╯╰┻┻┻┻━━╯\n",
      "    ╱╱╱╱╱╱╱╱╱╱╱╱╱╱╱╱╱╱╱╱╱╱╱╱╱╱╱╱╱╱╱╱╱╱╱╱╱╱╱╱╭━╯┃\n",
      "    ╱╱╱╱╱╱╱╱╱╱╱╱╱╱╱╱╱╱╱╱╱╱╱╱╱╱╱╱╱╱╱╱╱╱╱╱╱╱╱╱╰━━╯\n",
      "    \n",
      "Welcome too the Number Guessing Game!\n",
      "You have to guess a number between 1 and 100.\n",
      "Choose a difficulty. Type 'easy' or 'hard': hard\n",
      "You have 5 attempts remaining to guess the number.\n",
      "Make a guess:50\n",
      "Too Low\n",
      "Guess again\n",
      "You have 4 attempts remaining to guess the number.\n",
      "Make a guess:67\n",
      "Too Low\n",
      "Guess again\n",
      "You have 3 attempts remaining to guess the number.\n",
      "Make a guess:77\n",
      "You got it! The answer was 77\n"
     ]
    }
   ],
   "source": [
    "game()"
   ]
  },
  {
   "cell_type": "markdown",
   "id": "6cec3cf4",
   "metadata": {},
   "source": [
    "4. Hard Level -- Player lose"
   ]
  },
  {
   "cell_type": "code",
   "execution_count": 24,
   "id": "b0540536",
   "metadata": {},
   "outputs": [
    {
     "name": "stdout",
     "output_type": "stream",
     "text": [
      "\n",
      "\n",
      "    ╭━╮╱╭╮╱╱╱╱╱╭╮╱╱╱╱╱╱╱╭━━━╮╱╱╱╱╱╱╱╱╱╱╱╱╱╱╱╱╱╱╱╭━━━╮\n",
      "    ┃┃╰╮┃┃╱╱╱╱╱┃┃╱╱╱╱╱╱╱┃╭━╮┃╱╱╱╱╱╱╱╱╱╱╱╱╱╱╱╱╱╱╱┃╭━╮┃\n",
      "    ┃╭╮╰╯┣╮╭┳╮╭┫╰━┳━━┳━╮┃┃╱╰╋╮╭┳━━┳━━┳━━┳┳━╮╭━━╮┃┃╱╰╋━━┳╮╭┳━━╮\n",
      "    ┃┃╰╮┃┃┃┃┃╰╯┃╭╮┃┃━┫╭╯┃┃╭━┫┃┃┃┃━┫━━┫━━╋┫╭╮┫╭╮┃┃┃╭━┫╭╮┃╰╯┃┃━┫\n",
      "    ┃┃╱┃┃┃╰╯┃┃┃┃╰╯┃┃━┫┃╱┃╰┻━┃╰╯┃┃━╋━━┣━━┃┃┃┃┃╰╯┃┃╰┻━┃╭╮┃┃┃┃┃━┫\n",
      "    ╰╯╱╰━┻━━┻┻┻┻━━┻━━┻╯╱╰━━━┻━━┻━━┻━━┻━━┻┻╯╰┻━╮┃╰━━━┻╯╰┻┻┻┻━━╯\n",
      "    ╱╱╱╱╱╱╱╱╱╱╱╱╱╱╱╱╱╱╱╱╱╱╱╱╱╱╱╱╱╱╱╱╱╱╱╱╱╱╱╱╭━╯┃\n",
      "    ╱╱╱╱╱╱╱╱╱╱╱╱╱╱╱╱╱╱╱╱╱╱╱╱╱╱╱╱╱╱╱╱╱╱╱╱╱╱╱╱╰━━╯\n",
      "    \n",
      "Welcome too the Number Guessing Game!\n",
      "You have to guess a number between 1 and 100.\n",
      "Choose a difficulty. Type 'easy' or 'hard': hard\n",
      "You have 5 attempts remaining to guess the number.\n",
      "Make a guess:50\n",
      "Too high\n",
      "Guess again\n",
      "You have 4 attempts remaining to guess the number.\n",
      "Make a guess:30\n",
      "Too high\n",
      "Guess again\n",
      "You have 3 attempts remaining to guess the number.\n",
      "Make a guess:10\n",
      "Too Low\n",
      "Guess again\n",
      "You have 2 attempts remaining to guess the number.\n",
      "Make a guess:25\n",
      "Too high\n",
      "Guess again\n",
      "You have 1 attempts remaining to guess the number.\n",
      "Make a guess:22\n",
      "Too high\n",
      "You've run out of guesses, you lose \n"
     ]
    }
   ],
   "source": [
    "game()"
   ]
  },
  {
   "cell_type": "markdown",
   "id": "8f257660",
   "metadata": {},
   "source": [
    "---"
   ]
  },
  {
   "cell_type": "markdown",
   "id": "9b274754",
   "metadata": {},
   "source": [
    "![title](meme1.jpeg)"
   ]
  },
  {
   "cell_type": "markdown",
   "id": "e27b4bd5",
   "metadata": {},
   "source": [
    "![title](meme2.jpeg)"
   ]
  },
  {
   "cell_type": "markdown",
   "id": "3e90171e",
   "metadata": {},
   "source": [
    "## Conclusion : "
   ]
  },
  {
   "cell_type": "markdown",
   "id": "fe71f3af",
   "metadata": {},
   "source": [
    "This number guessing game help me refresh my memery about if statement and while loop. Although it is basic operation, I notice if statement is a key component of some simple AI like reflex agent program that we learn in the class. I am looking forward to learn more interesting knowledge about AI in this class."
   ]
  }
 ],
 "metadata": {
  "kernelspec": {
   "display_name": "Python 3",
   "language": "python",
   "name": "python3"
  },
  "language_info": {
   "codemirror_mode": {
    "name": "ipython",
    "version": 3
   },
   "file_extension": ".py",
   "mimetype": "text/x-python",
   "name": "python",
   "nbconvert_exporter": "python",
   "pygments_lexer": "ipython3",
   "version": "3.8.8"
  }
 },
 "nbformat": 4,
 "nbformat_minor": 5
}
